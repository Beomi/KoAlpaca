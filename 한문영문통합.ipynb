{
 "cells": [
  {
   "cell_type": "code",
   "execution_count": 1,
   "id": "61b0bd0c",
   "metadata": {},
   "outputs": [],
   "source": [
    "import json"
   ]
  },
  {
   "cell_type": "code",
   "execution_count": 3,
   "id": "9497ba88",
   "metadata": {},
   "outputs": [],
   "source": [
    "ko = json.load(open('./ko_alpaca_data.json'))"
   ]
  },
  {
   "cell_type": "code",
   "execution_count": 4,
   "id": "20e980c9",
   "metadata": {},
   "outputs": [],
   "source": [
    "en = json.load(open('./en_alpaca_data.json'))"
   ]
  },
  {
   "cell_type": "code",
   "execution_count": 5,
   "id": "8b8431ec",
   "metadata": {},
   "outputs": [
    {
     "data": {
      "text/plain": [
       "(49620, 52002)"
      ]
     },
     "execution_count": 5,
     "metadata": {},
     "output_type": "execute_result"
    }
   ],
   "source": [
    "len(ko), len(en)"
   ]
  },
  {
   "cell_type": "code",
   "execution_count": 6,
   "id": "0e9f5c8e",
   "metadata": {},
   "outputs": [],
   "source": [
    "total = ko + en"
   ]
  },
  {
   "cell_type": "code",
   "execution_count": 7,
   "id": "f3ffc6ae",
   "metadata": {},
   "outputs": [
    {
     "data": {
      "text/plain": [
       "101622"
      ]
     },
     "execution_count": 7,
     "metadata": {},
     "output_type": "execute_result"
    }
   ],
   "source": [
    "len(total)"
   ]
  },
  {
   "cell_type": "code",
   "execution_count": 9,
   "id": "c0dc81c9",
   "metadata": {},
   "outputs": [
    {
     "data": {
      "text/plain": [
       "[{'instruction': '건강을 유지하기 위한 세 가지 팁을 알려주세요.',\n",
       "  'input': '',\n",
       "  'output': '세 가지 팁은 아침식사를 꼭 챙기며, 충분한 수면을 취하고, 적극적으로 운동을 하는 것입니다.'},\n",
       " {'instruction': '세 가지 기본 색은 무엇인가요?',\n",
       "  'input': '',\n",
       "  'output': '기본 색은 빨강, 파랑, 노랑입니다.'},\n",
       " {'instruction': '원자의 구조를 설명하세요.',\n",
       "  'input': '',\n",
       "  'output': '원자는 양성자, 중성자, 전자로 구성되어 있으며, 양성자와 중성자는 원자핵 안에 있고 전자는 주변에 있습니다.'},\n",
       " {'instruction': '대기 오염을 어떻게 줄일 수 있나요?',\n",
       "  'input': '',\n",
       "  'output': '대기 오염을 줄이기 위해 자동차 대신 대중교통을 이용하고, 미세먼지 배출량을 줄이기 위해 차량 정기 검사를 받아야 합니다. 또한 에너지 절약을 위해 전기를 아끼고, 나무를 심어 대기 오염을 줄일 수 있습니다.'},\n",
       " {'instruction': '어려운 결정을 내려야 했던 때를 설명하세요.',\n",
       "  'input': '',\n",
       "  'output': '제가 어려운 결정을 내려야 했던 때는 대학원 졸업 후 직장을 찾아야 했던 때입니다. 다양한 선택지가 있었지만 나의 관심사와 비전에 가장 부합하는 경력을 뽑는데 어려움이 있었습니다. 이 때 여러 사람들의 조언과 현재 상황에 대한 깊은 고민 끝에 적절한 선택을 내리게 되었습니다.'},\n",
       " {'instruction': '홀수 중 하나를 밝히세요.',\n",
       "  'input': '트위터, 인스타그램, 텔레그램',\n",
       "  'output': '텔레그램입니다.'},\n",
       " {'instruction': '다음 분수가 1/4에 해당하는 이유를 설명하세요.',\n",
       "  'input': '4/16',\n",
       "  'output': '분모와 분자를 모두 4로 나눌 수 있기 때문에 1/4에 해당합니다.'},\n",
       " {'instruction': '중요한 진로 결정을 내려야 하는 주인공의 이야기를 3인칭 내레이션으로 단편 소설을 쓰세요.',\n",
       "  'input': '',\n",
       "  'output': '안나는 여러 대학교의 입학 가능성이 있었으나, 제발스러운 직업들을 향해 유혹 당하는 경향이 있어 본인이 가진 진로와 관심사에 맞도록 철저히 검토한 결과, 건축학과를 준비하는 과정에 들어갑니다. 딱 이 시점에서, 안나는 과거의 잘못된 선택 때문에 확고한 결정을 내리기 매우 힘들다는 것에 고통을 겪게 됩니다. 결국, 그녀는 과거로 돌아가 선택을 고쳐보는 것은 불가능하다는 것을 깨닫고 자신의 판단에 근거하여 더 깊이 고민하며 계속 나아가기로 결정합니다.'},\n",
       " {'instruction': '집의 3D 모델을 렌더링합니다.',\n",
       "  'input': '',\n",
       "  'output': '집의 3D 모델링 결과물 입니다. (이미지 첨부)'},\n",
       " {'instruction': '이 문장에 철자와 문법 오류가 있는지 평가하세요.',\n",
       "  'input': '그는 식사를 마치고 식당을 나섰습니다.',\n",
       "  'output': '그 문장에는 철자나 문법에 대한 오류가 없습니다.'}]"
      ]
     },
     "execution_count": 9,
     "metadata": {},
     "output_type": "execute_result"
    }
   ],
   "source": [
    "ko[:10]"
   ]
  },
  {
   "cell_type": "code",
   "execution_count": 8,
   "id": "f0f16f38",
   "metadata": {},
   "outputs": [
    {
     "data": {
      "text/plain": [
       "[{'instruction': 'Give three tips for staying healthy.',\n",
       "  'input': '',\n",
       "  'output': '1.Eat a balanced diet and make sure to include plenty of fruits and vegetables. \\n2. Exercise regularly to keep your body active and strong. \\n3. Get enough sleep and maintain a consistent sleep schedule.'},\n",
       " {'instruction': 'What are the three primary colors?',\n",
       "  'input': '',\n",
       "  'output': 'The three primary colors are red, blue, and yellow.'},\n",
       " {'instruction': 'Describe the structure of an atom.',\n",
       "  'input': '',\n",
       "  'output': 'An atom is made up of a nucleus, which contains protons and neutrons, surrounded by electrons that travel in orbits around the nucleus. The protons and neutrons have a positive charge, while the electrons have a negative charge, resulting in an overall neutral atom. The number of each particle determines the atomic number and the type of atom.'},\n",
       " {'instruction': 'How can we reduce air pollution?',\n",
       "  'input': '',\n",
       "  'output': 'There are a number of ways to reduce air pollution, such as shifting to renewable energy sources, encouraging the use of public transportation, prohibiting the burning of fossil fuels, implementing policies to reduce emissions from industrial sources, and implementing vehicle emissions standards. Additionally, individuals can do their part to reduce air pollution by reducing car use, avoiding burning materials such as wood, and changing to energy efficient appliances.'},\n",
       " {'instruction': 'Describe a time when you had to make a difficult decision.',\n",
       "  'input': '',\n",
       "  'output': 'I had to make a difficult decision when I was working as a project manager at a construction company. I was in charge of a project that needed to be completed by a certain date in order to meet the client’s expectations. However, due to unexpected delays, we were not able to meet the deadline and so I had to make a difficult decision. I decided to extend the deadline, but I had to stretch the team’s resources even further and increase the budget. Although it was a risky decision, I ultimately decided to go ahead with it to ensure that the project was completed on time and that the client’s expectations were met. The project was eventually successfully completed and this was seen as a testament to my leadership and decision-making abilities.'},\n",
       " {'instruction': 'Identify the odd one out.',\n",
       "  'input': 'Twitter, Instagram, Telegram',\n",
       "  'output': 'Telegram'},\n",
       " {'instruction': 'Explain why the following fraction is equivalent to 1/4',\n",
       "  'input': '4/16',\n",
       "  'output': 'The fraction 4/16 is equivalent to 1/4 because both numerators and denominators are divisible by 4. Dividing both the top and bottom numbers by 4 yields the fraction 1/4.'},\n",
       " {'instruction': 'Write a short story in third person narration about a protagonist who has to make an important career decision.',\n",
       "  'input': '',\n",
       "  'output': 'John was at a crossroads in his life. He had just graduated college and was now facing the big decision of what career to pursue. After much deliberation, he decided that he wanted to be an accountant and help the financially disadvantaged. He had always been good with numbers and enjoyed seeing the tangible results of his work. \\n\\nJohn enrolled in accounting courses and initially found it quite challenging. He had to learn multiple systems and regulations quickly, but he worked hard and eventually excelled in his studies. After a few years, John started working at an accounting firm in his city. He was eager to put his knowledge of taxes and accounting to use in a real-world setting.\\n\\nJohn loved his job, as it let him express his creativity in finding strategies to save his clients money. After a few years at the firm, he became a senior accountant and was asked to manage bigger and more challenging cases. He was now a respected figure in the financial industry, but he still remembers when he was just a recent college graduate, unsure of the direction in which his life would take him.'},\n",
       " {'instruction': 'Render a 3D model of a house',\n",
       "  'input': '',\n",
       "  'output': '<nooutput> This type of instruction cannot be fulfilled by a GPT model.'},\n",
       " {'instruction': 'Evaluate this sentence for spelling and grammar mistakes',\n",
       "  'input': 'He finnished his meal and left the resturant',\n",
       "  'output': 'He finished his meal and left the restaurant.'}]"
      ]
     },
     "execution_count": 8,
     "metadata": {},
     "output_type": "execute_result"
    }
   ],
   "source": [
    "en[:10]"
   ]
  },
  {
   "cell_type": "code",
   "execution_count": null,
   "id": "a3012808",
   "metadata": {},
   "outputs": [],
   "source": [
    "json.dump(total, open('alpaca_data.json', 'w'))"
   ]
  },
  {
   "cell_type": "code",
   "execution_count": null,
   "id": "d7e16f0d",
   "metadata": {},
   "outputs": [],
   "source": []
  }
 ],
 "metadata": {
  "kernelspec": {
   "display_name": "Python 3 (ipykernel)",
   "language": "python",
   "name": "python3"
  },
  "language_info": {
   "codemirror_mode": {
    "name": "ipython",
    "version": 3
   },
   "file_extension": ".py",
   "mimetype": "text/x-python",
   "name": "python",
   "nbconvert_exporter": "python",
   "pygments_lexer": "ipython3",
   "version": "3.10.8"
  }
 },
 "nbformat": 4,
 "nbformat_minor": 5
}
